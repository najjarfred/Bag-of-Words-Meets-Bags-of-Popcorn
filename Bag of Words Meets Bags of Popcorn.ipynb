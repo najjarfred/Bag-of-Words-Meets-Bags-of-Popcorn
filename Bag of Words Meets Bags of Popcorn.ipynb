{
 "cells": [
  {
   "cell_type": "code",
   "execution_count": null,
   "metadata": {},
   "outputs": [],
   "source": [
    "#ensure to join and accept the competition's T&Cs \n",
    "#!pip install kaggle\n",
    "\n",
    "#!kaggle --version\n",
    "\n",
    "#upload the kaggle.json file from your local machine to the colab environment C:\\Users\\Fred\\.kaggle\\katgle.json\n",
    "#!kaggle competitions download -c word2vec-nlp-tutorial\n"
   ]
  },
  {
   "cell_type": "code",
   "execution_count": 2,
   "metadata": {},
   "outputs": [],
   "source": [
    "import zipfile\n",
    "with zipfile.ZipFile(\"word2vec-nlp-tutorial.zip\", 'r') as zip_ref:\n",
    " zip_ref.extractall(\"Dataset\")"
   ]
  },
  {
   "cell_type": "code",
   "execution_count": 3,
   "metadata": {},
   "outputs": [
    {
     "name": "stdout",
     "output_type": "stream",
     "text": [
      "ref                                                                title                                               author                    lastRunTime          totalVotes  \n",
      "-----------------------------------------------------------------  --------------------------------------------------  ------------------------  -------------------  ----------  \n",
      "tanulsingh077/deep-learning-for-nlp-zero-to-transformers-bert      Deep Learning For NLP: Zero To Transformers & BERT  Mr_KnowNothing            2020-04-13 17:19:49        3184  \n",
      "pierremegret/gensim-word2vec-tutorial                              Gensim Word2Vec Tutorial                            Pierre Megret             2018-10-21 01:14:06         657  \n",
      "nilanml/imdb-review-deep-model-94-89-accuracy                      IMDB Review  - Deep Model ~ 94.89% Accuracy         Nilan                     2018-11-21 11:04:36         177  \n",
      "shivamb/data-science-glossary-on-kaggle                            Data Science Glossary on Kaggle                     Shivam Bansal             2018-12-10 09:47:14        2748  \n",
      "tarushi89/nlp-tutorial-word2vec-glove-embeddings                   NLP Tutorial | Word2Vec & Glove Embeddings          Tarushi Pathak            2021-05-26 15:20:16           8  \n",
      "pavansanagapati/knowledge-graph-nlp-tutorial-bert-spacy-nltk       Knowledge Graph & NLP Tutorial-(BERT,spaCy,NLTK)    Pavan Sanagapati          2020-09-08 14:40:39        1105  \n",
      "arunrk7/nlp-beginner-text-classification-using-lstm                NLP Beginner - Text Classification using LSTM       Arun Pandian R            2020-05-14 07:37:31         544  \n",
      "abhishek/approaching-almost-any-nlp-problem-on-kaggle              Approaching (Almost) Any NLP Problem on Kaggle      Abhishek Thakur           2020-07-22 06:02:35        2515  \n",
      "alexcherniuk/imdb-review-word2vec-bilstm-99-acc                    IMDB review Word2Vec & BiLSTM - 99% acc             Alex Cherniuk             2019-04-29 13:38:20          71  \n",
      "colearninglounge/nlp-data-preprocessing-and-cleaning               NLP - Data Preprocessing and Cleaning               Co-learning Lounge        2021-03-20 15:01:33         137  \n",
      "arunkumarramanan/awesome-ml-and-text-classification-movie-reviews  Awesome ML and Text Classification - Movie Reviews  Arunkumar Venkataramanan  2019-02-23 20:57:23          78  \n",
      "longtng/nlp-preprocessing-feature-extraction-methods-a-z           NLP Preprocessing & Feature Extraction Methods A-Z  Long NG                   2020-08-26 20:58:52         186  \n",
      "venkatkumar001/nlp-starter1-almost-all-basic-concept               ⭐️📢 NLP_Starter1📄|Almost (All🤷) Basic Concept⭐️     VK                        2022-04-28 06:45:32         141  \n",
      "vladislavkisin/tutorial-ml-in-chemistry-research-rdkit-mol2vec     Tutorial ML In Chemistry Research. RDkit & mol2vec  Vlad Kisin                2019-12-27 08:38:55         163  \n",
      "shivan118/natural-language-processing-master                       Natural Language Processing Master ♔                shivan kumar              2020-09-23 05:54:59         106  \n",
      "rohandx1996/google-movie-reviews-sentiment-deep-stack-models       Google movie reviews sentiment Deep stack models    rohan                     2019-09-18 07:15:00          64  \n",
      "harshjain123/bert-for-everyone-tutorial-implementation             BERT for \"Everyone\" (Tutorial + Implementation)     Harsh Jain                2021-05-20 13:11:32         154  \n",
      "kmldas/free-nlp-resources-courses                                  Free NLP resources & courses                        Kamal Das                 2022-03-07 11:11:27          35  \n",
      "frankmollard/nlp-a-gentle-introduction-lstm-word2vec-bert          NLP a Gentle Introduction (LSTM, Word2Vec, BERT)    Frank Mollard             2024-10-16 07:49:22          86  \n",
      "sdlee94/belka-molecule-representations-for-ml-tutorial             BELKA: Molecule Representations for ML Tutorial     Stephen Lee               2024-04-19 19:34:38         103  \n"
     ]
    }
   ],
   "source": [
    "\n",
    "#check current submissions\n",
    "!kaggle kernels list -s \"word2vec-nlp-tutorial\" --sort-by \"scoreDescending\""
   ]
  }
 ],
 "metadata": {
  "kernelspec": {
   "display_name": "base",
   "language": "python",
   "name": "python3"
  },
  "language_info": {
   "codemirror_mode": {
    "name": "ipython",
    "version": 3
   },
   "file_extension": ".py",
   "mimetype": "text/x-python",
   "name": "python",
   "nbconvert_exporter": "python",
   "pygments_lexer": "ipython3",
   "version": "3.9.13"
  }
 },
 "nbformat": 4,
 "nbformat_minor": 2
}
